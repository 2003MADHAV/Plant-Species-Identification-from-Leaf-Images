{
 "cells": [
  {
   "cell_type": "code",
   "execution_count": 2,
   "metadata": {
    "id": "nVjaFNUwiQP2"
   },
   "outputs": [],
   "source": [
    "import Augmentor\n",
    "import numpy as np\n",
    "import os\n",
    "import glob\n",
    "import random\n",
    "import collections\n",
    "from PIL import Image\n",
    "import keras\n",
    "from keras.models import Sequential\n",
    "from keras.layers import Dense, Dropout, Flatten\n",
    "from keras.layers import Conv2D, MaxPooling2D\n",
    "import matplotlib.pyplot as plt"
   ]
  },
  {
   "cell_type": "code",
   "execution_count": 3,
   "metadata": {
    "id": "5ZNi1FfEiQP7"
   },
   "outputs": [
    {
     "name": "stdout",
     "output_type": "stream",
     "text": [
      "Folders (classes) found: ['leaf1', 'leaf10', 'leaf11', 'leaf12', 'leaf13', 'leaf14', 'leaf15', 'leaf2', 'leaf3', 'leaf4', 'leaf5', 'leaf6', 'leaf7', 'leaf8', 'leaf9'] \n"
     ]
    }
   ],
   "source": [
    "root_directory = \"C:\\\\Users\\\\ASUS\\\\project\\\\Plant-Leaf-Recognition\\\\Data_Augumentation\"\n",
    "\n",
    "folders = []\n",
    "for f in glob.glob(os.path.join(root_directory, '*')):\n",
    "    if os.path.isdir(f):\n",
    "        folders.append(os.path.abspath(f))\n",
    "\n",
    "print(\"Folders (classes) found: %s \" % [os.path.split(x)[1] for x in folders])\n"
   ]
  },
  {
   "cell_type": "code",
   "execution_count": 4,
   "metadata": {
    "id": "0gSiUnDpiQP9"
   },
   "outputs": [
    {
     "name": "stdout",
     "output_type": "stream",
     "text": [
      "Folder C:\\Users\\ASUS\\project\\Plant-Leaf-Recognition\\Data_Augumentation\\leaf1:\n",
      "Initialised with 75 image(s) found.\n",
      "Output directory set to C:\\Users\\ASUS\\project\\Plant-Leaf-Recognition\\Data_Augumentation\\leaf1\\output.\n",
      "----------------------------\n",
      "\n",
      "Folder C:\\Users\\ASUS\\project\\Plant-Leaf-Recognition\\Data_Augumentation\\leaf10:\n",
      "Initialised with 75 image(s) found.\n",
      "Output directory set to C:\\Users\\ASUS\\project\\Plant-Leaf-Recognition\\Data_Augumentation\\leaf10\\output.\n",
      "----------------------------\n",
      "\n",
      "Folder C:\\Users\\ASUS\\project\\Plant-Leaf-Recognition\\Data_Augumentation\\leaf11:\n",
      "Initialised with 75 image(s) found.\n",
      "Output directory set to C:\\Users\\ASUS\\project\\Plant-Leaf-Recognition\\Data_Augumentation\\leaf11\\output.\n",
      "----------------------------\n",
      "\n",
      "Folder C:\\Users\\ASUS\\project\\Plant-Leaf-Recognition\\Data_Augumentation\\leaf12:\n",
      "Initialised with 75 image(s) found.\n",
      "Output directory set to C:\\Users\\ASUS\\project\\Plant-Leaf-Recognition\\Data_Augumentation\\leaf12\\output.\n",
      "----------------------------\n",
      "\n",
      "Folder C:\\Users\\ASUS\\project\\Plant-Leaf-Recognition\\Data_Augumentation\\leaf13:\n",
      "Initialised with 75 image(s) found.\n",
      "Output directory set to C:\\Users\\ASUS\\project\\Plant-Leaf-Recognition\\Data_Augumentation\\leaf13\\output.\n",
      "----------------------------\n",
      "\n",
      "Folder C:\\Users\\ASUS\\project\\Plant-Leaf-Recognition\\Data_Augumentation\\leaf14:\n",
      "Initialised with 75 image(s) found.\n",
      "Output directory set to C:\\Users\\ASUS\\project\\Plant-Leaf-Recognition\\Data_Augumentation\\leaf14\\output.\n",
      "----------------------------\n",
      "\n",
      "Folder C:\\Users\\ASUS\\project\\Plant-Leaf-Recognition\\Data_Augumentation\\leaf15:\n",
      "Initialised with 75 image(s) found.\n",
      "Output directory set to C:\\Users\\ASUS\\project\\Plant-Leaf-Recognition\\Data_Augumentation\\leaf15\\output.\n",
      "----------------------------\n",
      "\n",
      "Folder C:\\Users\\ASUS\\project\\Plant-Leaf-Recognition\\Data_Augumentation\\leaf2:\n",
      "Initialised with 75 image(s) found.\n",
      "Output directory set to C:\\Users\\ASUS\\project\\Plant-Leaf-Recognition\\Data_Augumentation\\leaf2\\output.\n",
      "----------------------------\n",
      "\n",
      "Folder C:\\Users\\ASUS\\project\\Plant-Leaf-Recognition\\Data_Augumentation\\leaf3:\n",
      "Initialised with 75 image(s) found.\n",
      "Output directory set to C:\\Users\\ASUS\\project\\Plant-Leaf-Recognition\\Data_Augumentation\\leaf3\\output.\n",
      "----------------------------\n",
      "\n",
      "Folder C:\\Users\\ASUS\\project\\Plant-Leaf-Recognition\\Data_Augumentation\\leaf4:\n",
      "Initialised with 75 image(s) found.\n",
      "Output directory set to C:\\Users\\ASUS\\project\\Plant-Leaf-Recognition\\Data_Augumentation\\leaf4\\output.\n",
      "----------------------------\n",
      "\n",
      "Folder C:\\Users\\ASUS\\project\\Plant-Leaf-Recognition\\Data_Augumentation\\leaf5:\n",
      "Initialised with 75 image(s) found.\n",
      "Output directory set to C:\\Users\\ASUS\\project\\Plant-Leaf-Recognition\\Data_Augumentation\\leaf5\\output.\n",
      "----------------------------\n",
      "\n",
      "Folder C:\\Users\\ASUS\\project\\Plant-Leaf-Recognition\\Data_Augumentation\\leaf6:\n",
      "Initialised with 75 image(s) found.\n",
      "Output directory set to C:\\Users\\ASUS\\project\\Plant-Leaf-Recognition\\Data_Augumentation\\leaf6\\output.\n",
      "----------------------------\n",
      "\n",
      "Folder C:\\Users\\ASUS\\project\\Plant-Leaf-Recognition\\Data_Augumentation\\leaf7:\n",
      "Initialised with 75 image(s) found.\n",
      "Output directory set to C:\\Users\\ASUS\\project\\Plant-Leaf-Recognition\\Data_Augumentation\\leaf7\\output.\n",
      "----------------------------\n",
      "\n",
      "Folder C:\\Users\\ASUS\\project\\Plant-Leaf-Recognition\\Data_Augumentation\\leaf8:\n",
      "Initialised with 75 image(s) found.\n",
      "Output directory set to C:\\Users\\ASUS\\project\\Plant-Leaf-Recognition\\Data_Augumentation\\leaf8\\output.\n",
      "----------------------------\n",
      "\n",
      "Folder C:\\Users\\ASUS\\project\\Plant-Leaf-Recognition\\Data_Augumentation\\leaf9:\n",
      "Initialised with 75 image(s) found.\n",
      "Output directory set to C:\\Users\\ASUS\\project\\Plant-Leaf-Recognition\\Data_Augumentation\\leaf9\\output.\n",
      "----------------------------\n",
      "\n",
      "Class leaf1 has 75 samples.\n",
      "Class leaf10 has 75 samples.\n",
      "Class leaf11 has 75 samples.\n",
      "Class leaf12 has 75 samples.\n",
      "Class leaf13 has 75 samples.\n",
      "Class leaf14 has 75 samples.\n",
      "Class leaf15 has 75 samples.\n",
      "Class leaf2 has 75 samples.\n",
      "Class leaf3 has 75 samples.\n",
      "Class leaf4 has 75 samples.\n",
      "Class leaf5 has 75 samples.\n",
      "Class leaf6 has 75 samples.\n",
      "Class leaf7 has 75 samples.\n",
      "Class leaf8 has 75 samples.\n",
      "Class leaf9 has 75 samples.\n"
     ]
    },
    {
     "data": {
      "text/plain": [
       "{'leaf1': <Augmentor.Pipeline.Pipeline at 0x2503b436d10>,\n",
       " 'leaf10': <Augmentor.Pipeline.Pipeline at 0x2503b380650>,\n",
       " 'leaf11': <Augmentor.Pipeline.Pipeline at 0x2503b4ab290>,\n",
       " 'leaf12': <Augmentor.Pipeline.Pipeline at 0x2503b5aba10>,\n",
       " 'leaf13': <Augmentor.Pipeline.Pipeline at 0x2503b513650>,\n",
       " 'leaf14': <Augmentor.Pipeline.Pipeline at 0x2503b513690>,\n",
       " 'leaf15': <Augmentor.Pipeline.Pipeline at 0x2503b522090>,\n",
       " 'leaf2': <Augmentor.Pipeline.Pipeline at 0x2503b4ff610>,\n",
       " 'leaf3': <Augmentor.Pipeline.Pipeline at 0x2503b4bbed0>,\n",
       " 'leaf4': <Augmentor.Pipeline.Pipeline at 0x2503b529cd0>,\n",
       " 'leaf5': <Augmentor.Pipeline.Pipeline at 0x2503b5d2450>,\n",
       " 'leaf6': <Augmentor.Pipeline.Pipeline at 0x2503b64c950>,\n",
       " 'leaf7': <Augmentor.Pipeline.Pipeline at 0x2503b4b8750>,\n",
       " 'leaf8': <Augmentor.Pipeline.Pipeline at 0x2503b5d2650>,\n",
       " 'leaf9': <Augmentor.Pipeline.Pipeline at 0x2503b5813d0>}"
      ]
     },
     "execution_count": 4,
     "metadata": {},
     "output_type": "execute_result"
    }
   ],
   "source": [
    "pipelines = {}\n",
    "for folder in folders:\n",
    "    print(\"Folder %s:\" % (folder))\n",
    "    pipelines[os.path.split(folder)[1]] = (Augmentor.Pipeline(folder))\n",
    "    print(\"\\n----------------------------\\n\")\n",
    "\n",
    "for p in pipelines.values():\n",
    "    print(\"Class %s has %s samples.\" % (p.augmentor_images[0].class_label, len(p.augmentor_images)))\n",
    "\n",
    "pipelines\n"
   ]
  },
  {
   "cell_type": "code",
   "execution_count": 5,
   "metadata": {},
   "outputs": [
    {
     "name": "stderr",
     "output_type": "stream",
     "text": [
      "Processing <PIL.Image.Image image mode=RGB size=984x1643 at 0x2503B581310>: 100%|█| 333/333 [00:15<00:00, 20.89 Samples\n",
      "Processing <PIL.Image.Image image mode=RGB size=1922x3147 at 0x25049E85C10>: 100%|█| 333/333 [00:46<00:00,  7.24 Sample\n",
      "Processing <PIL.Image.Image image mode=RGB size=838x1520 at 0x2504AEB3150>: 100%|█| 333/333 [00:11<00:00, 29.77 Samples\n",
      "Processing <PIL.Image.Image image mode=RGB size=987x1562 at 0x25045EF4750>: 100%|█| 333/333 [00:22<00:00, 14.69 Samples\n",
      "Processing <PIL.Image.Image image mode=RGB size=1307x1918 at 0x25041FD0350>: 100%|█| 333/333 [00:16<00:00, 20.23 Sample\n",
      "Processing <PIL.Image.Image image mode=RGB size=1017x1342 at 0x2503D1A8BD0>: 100%|█| 333/333 [00:20<00:00, 16.48 Sample\n",
      "Processing <PIL.Image.Image image mode=RGB size=721x1082 at 0x2503B52A2D0>: 100%|█| 333/333 [00:14<00:00, 22.52 Samples\n",
      "Processing <PIL.Image.Image image mode=RGB size=1558x1994 at 0x2505FC2F210>: 100%|█| 333/333 [01:05<00:00,  5.11 Sample\n",
      "Processing <PIL.Image.Image image mode=RGB size=1093x1780 at 0x2503B3A4FD0>: 100%|█| 333/333 [00:21<00:00, 15.35 Sample\n",
      "Processing <PIL.Image.Image image mode=RGB size=804x1416 at 0x2503B623350>: 100%|█| 333/333 [00:14<00:00, 23.78 Samples\n",
      "Processing <PIL.Image.Image image mode=RGB size=432x712 at 0x2503B3820D0>: 100%|█| 333/333 [00:08<00:00, 41.61 Samples/\n",
      "Processing <PIL.Image.Image image mode=RGB size=891x1341 at 0x2503AD49890>: 100%|█| 333/333 [00:17<00:00, 18.60 Samples\n",
      "Processing <PIL.Image.Image image mode=RGB size=351x1284 at 0x2503B3FAA50>: 100%|█| 333/333 [00:12<00:00, 27.28 Samples\n",
      "Processing <PIL.Image.Image image mode=RGB size=955x1304 at 0x2505FC54290>: 100%|█| 333/333 [00:20<00:00, 15.98 Samples\n",
      "Processing <PIL.Image.Image image mode=RGB size=1508x2219 at 0x2503B64DC90>: 100%|█| 333/333 [00:26<00:00, 12.55 Sample\n"
     ]
    },
    {
     "data": {
      "text/plain": [
       "<generator object multi_generator at 0x000002503B6297A0>"
      ]
     },
     "execution_count": 5,
     "metadata": {},
     "output_type": "execute_result"
    }
   ],
   "source": [
    "for pipeline in pipelines.values():\n",
    "    pipeline.rotate(probability=0.75, max_left_rotation=10, max_right_rotation=10)\n",
    "    pipeline.flip_left_right(probability=0.8)\n",
    "    pipeline.skew(probability=0.4)\n",
    "    pipeline.random_distortion(probability=0.5, grid_width=3, grid_height=7,magnitude=2)\n",
    "    pipeline.crop_centre(probability=0.1,percentage_area=0.8)\n",
    "    pipeline.sample(333)\n",
    "\n",
    "integer_labels = {\n",
    "    'leaf1': 0,\n",
    "    'leaf2': 1,\n",
    "    'leaf3': 2,\n",
    "    'leaf4': 3,\n",
    "    'leaf5': 4,\n",
    "    'leaf6': 5,\n",
    "    'leaf7': 6,\n",
    "    'leaf8': 7,\n",
    "    'leaf9': 8,\n",
    "    'leaf10': 9,\n",
    "    'leaf11': 10,\n",
    "    'leaf12': 11,\n",
    "    'leaf13': 12,\n",
    "    'leaf14': 13,\n",
    "    'leaf15': 14\n",
    "}\n",
    "\n",
    "PipelineContainer = collections.namedtuple(\n",
    "    'PipelineContainer',\n",
    "    'label label_integer label_categorical pipeline generator'\n",
    ")\n",
    "\n",
    "pipeline_containers = []\n",
    "\n",
    "for label, pipeline in pipelines.items():\n",
    "    #label_categorical = np.zeros(len(pipelines), dtype=np.int)\n",
    "    \n",
    "    label_categorical = np.zeros(len(pipelines), dtype=int)\n",
    "    \n",
    "    label_categorical[integer_labels[label]] = 1\n",
    "    pipeline_containers.append(\n",
    "        PipelineContainer(\n",
    "            label,\n",
    "            integer_labels[label],\n",
    "            label_categorical,\n",
    "            pipeline,\n",
    "            pipeline.keras_generator(batch_size=1)\n",
    "        )\n",
    "    )\n",
    "\n",
    "\n",
    "\n",
    "def multi_generator(pipeline_containers, batch_size):\n",
    "    X = []\n",
    "    y = []\n",
    "    for i in range(batch_size):\n",
    "        pipeline_container = random.choice(pipeline_containers)\n",
    "        image, _ = next(pipeline_container.generator)\n",
    "        image = image.reshape((224,224,3)) # Or (1, 28, 28) for channels_first, see Keras' docs.\n",
    "        X.append(image)\n",
    "        y.append(pipeline_container.label_categorical) # Or label_integer if required by network\n",
    "        X = np.asarray(X)\n",
    "        y = np.asarray(y)\n",
    "    yield X, y\n",
    "            \n",
    "multi_generator(pipeline_containers,1)\n"
   ]
  }
 ],
 "metadata": {
  "colab": {
   "provenance": []
  },
  "kernelspec": {
   "display_name": "Python 3 (ipykernel)",
   "language": "python",
   "name": "python3"
  },
  "language_info": {
   "codemirror_mode": {
    "name": "ipython",
    "version": 3
   },
   "file_extension": ".py",
   "mimetype": "text/x-python",
   "name": "python",
   "nbconvert_exporter": "python",
   "pygments_lexer": "ipython3",
   "version": "3.11.4"
  }
 },
 "nbformat": 4,
 "nbformat_minor": 1
}
