{
 "cells": [
  {
   "cell_type": "code",
   "execution_count": 1,
   "metadata": {},
   "outputs": [],
   "source": [
    "import numpy as np\n",
    "import tensorflow as tf\n",
    "import matplotlib.pyplot as plt\n",
    "import os\n",
    "import cv2\n",
    "from tensorflow.keras.preprocessing.image import ImageDataGenerator\n",
    "from tensorflow.keras.models import Sequential\n",
    "from tensorflow.keras.layers import Dense, Dropout, Activation, Flatten\n",
    "from tensorflow.keras.layers import Conv2D, MaxPooling2D, AveragePooling2D\n",
    "from tensorflow.keras.callbacks import TensorBoard\n",
    "from tqdm import tqdm\n",
    "import pickle\n",
    "import time "
   ]
  },
  {
   "cell_type": "code",
   "execution_count": 3,
   "metadata": {
    "scrolled": true
   },
   "outputs": [
    {
     "name": "stdout",
     "output_type": "stream",
     "text": [
      "Processing class: leaf1\n"
     ]
    },
    {
     "name": "stderr",
     "output_type": "stream",
     "text": [
      "100%|██████████████████████████████████████████████████████████████████████████████████| 75/75 [00:01<00:00, 41.62it/s]\n"
     ]
    },
    {
     "name": "stdout",
     "output_type": "stream",
     "text": [
      "Processing class: leaf10\n"
     ]
    },
    {
     "name": "stderr",
     "output_type": "stream",
     "text": [
      "100%|██████████████████████████████████████████████████████████████████████████████████| 75/75 [00:02<00:00, 30.29it/s]\n"
     ]
    },
    {
     "name": "stdout",
     "output_type": "stream",
     "text": [
      "Processing class: leaf11\n"
     ]
    },
    {
     "name": "stderr",
     "output_type": "stream",
     "text": [
      "100%|██████████████████████████████████████████████████████████████████████████████████| 75/75 [00:00<00:00, 95.28it/s]\n"
     ]
    },
    {
     "name": "stdout",
     "output_type": "stream",
     "text": [
      "Processing class: leaf12\n"
     ]
    },
    {
     "name": "stderr",
     "output_type": "stream",
     "text": [
      "100%|██████████████████████████████████████████████████████████████████████████████████| 75/75 [00:01<00:00, 53.81it/s]\n"
     ]
    },
    {
     "name": "stdout",
     "output_type": "stream",
     "text": [
      "Processing class: leaf13\n"
     ]
    },
    {
     "name": "stderr",
     "output_type": "stream",
     "text": [
      "100%|██████████████████████████████████████████████████████████████████████████████████| 75/75 [00:01<00:00, 54.92it/s]\n"
     ]
    },
    {
     "name": "stdout",
     "output_type": "stream",
     "text": [
      "Processing class: leaf14\n"
     ]
    },
    {
     "name": "stderr",
     "output_type": "stream",
     "text": [
      "100%|██████████████████████████████████████████████████████████████████████████████████| 75/75 [00:01<00:00, 51.14it/s]\n"
     ]
    },
    {
     "name": "stdout",
     "output_type": "stream",
     "text": [
      "Processing class: leaf15\n"
     ]
    },
    {
     "name": "stderr",
     "output_type": "stream",
     "text": [
      "100%|██████████████████████████████████████████████████████████████████████████████████| 75/75 [00:01<00:00, 71.92it/s]\n"
     ]
    },
    {
     "name": "stdout",
     "output_type": "stream",
     "text": [
      "Processing class: leaf2\n"
     ]
    },
    {
     "name": "stderr",
     "output_type": "stream",
     "text": [
      "100%|██████████████████████████████████████████████████████████████████████████████████| 75/75 [00:03<00:00, 24.12it/s]\n"
     ]
    },
    {
     "name": "stdout",
     "output_type": "stream",
     "text": [
      "Processing class: leaf3\n"
     ]
    },
    {
     "name": "stderr",
     "output_type": "stream",
     "text": [
      "100%|██████████████████████████████████████████████████████████████████████████████████| 75/75 [00:01<00:00, 54.58it/s]\n"
     ]
    },
    {
     "name": "stdout",
     "output_type": "stream",
     "text": [
      "Processing class: leaf4\n"
     ]
    },
    {
     "name": "stderr",
     "output_type": "stream",
     "text": [
      "100%|██████████████████████████████████████████████████████████████████████████████████| 75/75 [00:01<00:00, 65.52it/s]\n"
     ]
    },
    {
     "name": "stdout",
     "output_type": "stream",
     "text": [
      "Processing class: leaf5\n"
     ]
    },
    {
     "name": "stderr",
     "output_type": "stream",
     "text": [
      "100%|█████████████████████████████████████████████████████████████████████████████████| 75/75 [00:00<00:00, 110.29it/s]\n"
     ]
    },
    {
     "name": "stdout",
     "output_type": "stream",
     "text": [
      "Processing class: leaf6\n"
     ]
    },
    {
     "name": "stderr",
     "output_type": "stream",
     "text": [
      "100%|██████████████████████████████████████████████████████████████████████████████████| 75/75 [00:01<00:00, 61.92it/s]\n"
     ]
    },
    {
     "name": "stdout",
     "output_type": "stream",
     "text": [
      "Processing class: leaf7\n"
     ]
    },
    {
     "name": "stderr",
     "output_type": "stream",
     "text": [
      "100%|█████████████████████████████████████████████████████████████████████████████████| 75/75 [00:00<00:00, 134.88it/s]\n"
     ]
    },
    {
     "name": "stdout",
     "output_type": "stream",
     "text": [
      "Processing class: leaf8\n"
     ]
    },
    {
     "name": "stderr",
     "output_type": "stream",
     "text": [
      "100%|██████████████████████████████████████████████████████████████████████████████████| 75/75 [00:01<00:00, 55.39it/s]\n"
     ]
    },
    {
     "name": "stdout",
     "output_type": "stream",
     "text": [
      "Processing class: leaf9\n"
     ]
    },
    {
     "name": "stderr",
     "output_type": "stream",
     "text": [
      "100%|██████████████████████████████████████████████████████████████████████████████████| 75/75 [00:01<00:00, 41.39it/s]"
     ]
    },
    {
     "name": "stdout",
     "output_type": "stream",
     "text": [
      "1125\n"
     ]
    },
    {
     "name": "stderr",
     "output_type": "stream",
     "text": [
      "\n"
     ]
    }
   ],
   "source": [
    "import os\n",
    "import cv2\n",
    "from tqdm import tqdm\n",
    "\n",
    "# Define your dataset path\n",
    "src_path = \"C:\\\\Users\\\\ASUS\\\\project\\\\Plant-Leaf-Recognition\\\\Data\"\n",
    "\n",
    "\n",
    "# List of subdirectories (each representing a class)\n",
    "subclass = os.listdir(src_path)\n",
    "\n",
    "# Initialize an empty list for training data\n",
    "training_data = []\n",
    "\n",
    "\n",
    "# Add the debugging code to the create_training_data function\n",
    "def create_training_data():\n",
    "    for sclass in subclass:\n",
    "        path = os.path.join(src_path, sclass)\n",
    "        print(\"Processing class:\", sclass)  # Add this line for debugging\n",
    "        class_num = subclass.index(sclass)\n",
    "        for img in tqdm(os.listdir(path)):\n",
    "            img_array = cv2.imread(os.path.join(path, img), cv2.IMREAD_GRAYSCALE)\n",
    "            new_array = cv2.resize(img_array, (224, 224))\n",
    "            training_data.append([new_array, class_num])\n",
    "\n",
    "create_training_data()  # Call the function to trigger data collection\n",
    "print(len(training_data))\n"
   ]
  },
  {
   "cell_type": "code",
   "execution_count": 4,
   "metadata": {},
   "outputs": [
    {
     "name": "stdout",
     "output_type": "stream",
     "text": [
      "Sample X: [[[246]\n",
      "  [247]\n",
      "  [244]\n",
      "  ...\n",
      "  [242]\n",
      "  [243]\n",
      "  [241]]\n",
      "\n",
      " [[247]\n",
      "  [246]\n",
      "  [246]\n",
      "  ...\n",
      "  [243]\n",
      "  [242]\n",
      "  [242]]\n",
      "\n",
      " [[246]\n",
      "  [245]\n",
      "  [245]\n",
      "  ...\n",
      "  [242]\n",
      "  [238]\n",
      "  [242]]\n",
      "\n",
      " ...\n",
      "\n",
      " [[252]\n",
      "  [253]\n",
      "  [252]\n",
      "  ...\n",
      "  [247]\n",
      "  [247]\n",
      "  [247]]\n",
      "\n",
      " [[252]\n",
      "  [253]\n",
      "  [252]\n",
      "  ...\n",
      "  [247]\n",
      "  [249]\n",
      "  [247]]\n",
      "\n",
      " [[252]\n",
      "  [253]\n",
      "  [252]\n",
      "  ...\n",
      "  [248]\n",
      "  [248]\n",
      "  [246]]]\n"
     ]
    }
   ],
   "source": [
    "X = []  # This list will store the features (image data)\n",
    "y = []  # This list will store the labels (class numbers)\n",
    "\n",
    "for features, label in training_data:\n",
    "    X.append(features)\n",
    "    y.append(label)\n",
    "\n",
    "# Convert the feature array to a NumPy array and reshape it\n",
    "X = np.array(X).reshape(-1, 224, 224, 1)\n",
    "\n",
    "# Print the first sample (feature) in X\n",
    "print(\"Sample X:\", X[0])\n"
   ]
  },
  {
   "cell_type": "code",
   "execution_count": 5,
   "metadata": {},
   "outputs": [],
   "source": [
    "import pickle\n",
    "\n",
    "# Save the preprocessed data X using pickle\n",
    "pickle_out = open(\"X_Augmented_Grayscale\", \"wb\")\n",
    "#pickle_out = open(\"C:\\\\Users\\\\ASUS\\\\project\\\\Plant-Leaf-Recognition\\\\X_Augumented_Grayscale\", \"wb\")\n",
    "\n",
    "pickle.dump(X, pickle_out)\n",
    "pickle_out.close()\n",
    "\n",
    "\n",
    "\n",
    "# Save the corresponding labels y using pickle\n",
    "pickle_out = open(\"y_Augmented_Grayscale\", \"wb\")\n",
    "#pickle_out = open(\"C:\\\\Users\\\\ASUS\\\\project\\\\Plant-Leaf-Recognition\\\\y_Augumented_Grayscale\", \"wb\")\n",
    "pickle.dump(y, pickle_out)\n",
    "pickle_out.close()\n"
   ]
  },
  {
   "cell_type": "code",
   "execution_count": 8,
   "metadata": {},
   "outputs": [
    {
     "name": "stdout",
     "output_type": "stream",
     "text": [
      "Epoch 1/10\n",
      "900/900 [==============================] - 124s 137ms/step - loss: 1.4930 - accuracy: 0.5489 - val_loss: 12.9270 - val_accuracy: 0.0000e+00\n",
      "Epoch 2/10\n",
      "900/900 [==============================] - 132s 146ms/step - loss: 0.3872 - accuracy: 0.8878 - val_loss: 13.2021 - val_accuracy: 0.0000e+00\n",
      "Epoch 3/10\n",
      "900/900 [==============================] - 123s 137ms/step - loss: 0.2345 - accuracy: 0.9444 - val_loss: 22.7848 - val_accuracy: 0.0000e+00\n",
      "Epoch 4/10\n",
      "900/900 [==============================] - 142s 158ms/step - loss: 0.0327 - accuracy: 0.9911 - val_loss: 33.3893 - val_accuracy: 0.0000e+00\n",
      "Epoch 5/10\n",
      "900/900 [==============================] - 132s 147ms/step - loss: 0.0275 - accuracy: 0.9900 - val_loss: 35.9516 - val_accuracy: 0.0000e+00\n",
      "Epoch 6/10\n",
      "900/900 [==============================] - 126s 140ms/step - loss: 0.0010 - accuracy: 1.0000 - val_loss: 40.9277 - val_accuracy: 0.0000e+00\n",
      "Epoch 7/10\n",
      "900/900 [==============================] - 125s 138ms/step - loss: 2.9948e-04 - accuracy: 1.0000 - val_loss: 43.0533 - val_accuracy: 0.0000e+00\n",
      "Epoch 8/10\n",
      "900/900 [==============================] - 125s 139ms/step - loss: 1.0771e-04 - accuracy: 1.0000 - val_loss: 44.9797 - val_accuracy: 0.0000e+00\n",
      "Epoch 9/10\n",
      "900/900 [==============================] - 125s 139ms/step - loss: 6.8642e-05 - accuracy: 1.0000 - val_loss: 47.6948 - val_accuracy: 0.0000e+00\n",
      "Epoch 10/10\n",
      "900/900 [==============================] - 126s 140ms/step - loss: 3.9496e-05 - accuracy: 1.0000 - val_loss: 49.0345 - val_accuracy: 0.0000e+00\n"
     ]
    },
    {
     "data": {
      "text/plain": [
       "<keras.src.callbacks.History at 0x26d3a244c50>"
      ]
     },
     "execution_count": 8,
     "metadata": {},
     "output_type": "execute_result"
    }
   ],
   "source": [
    "# Model 1\n",
    "import numpy as np\n",
    "#pickle_in = open(\"X_Augumented_Grayscale\",\"rb\")\n",
    "pickle_in=open(r\"C:\\Users\\ASUS\\project\\Plant-Leaf-Recognition\\X_Augmented_Grayscale\",\"rb\")\n",
    "X = pickle.load(pickle_in)\n",
    "\n",
    "#pickle_in = open(\"y_Augumented_Grayscale\",\"rb\")\n",
    "pickle_in = open(r\"C:\\Users\\ASUS\\project\\Plant-Leaf-Recognition\\y_Augmented_Grayscale\",\"rb\")\n",
    "\n",
    "y = pickle.load(pickle_in)\n",
    "\n",
    "#X = X/255.0\n",
    "X = np.array(X) / 255.0\n",
    "\n",
    "#X = X.reshape(-1, 128, 128, 1)\n",
    "\n",
    "model = Sequential()\n",
    "\n",
    "model.add(Conv2D(100, (3, 3), input_shape=X.shape[1:]))\n",
    "model.add(Activation('relu'))\n",
    "model.add(MaxPooling2D(pool_size=(2, 2)))\n",
    "\n",
    "model.add(Conv2D(100, (3, 3)))\n",
    "model.add(Activation('relu'))\n",
    "model.add(MaxPooling2D(pool_size=(2, 2)))\n",
    "\n",
    "model.add(Flatten())\n",
    "\n",
    "model.add(Dense(15))\n",
    "model.add(Activation('softmax'))\n",
    "\n",
    "tensorboard = TensorBoard(log_dir=\"logs\\\\{}\".format(\"Basic_CNN_2_Augumented\"))\n",
    "X=np.array(X)\n",
    "y=np.array(y)\n",
    "model.compile(loss='sparse_categorical_crossentropy',\n",
    "              optimizer='adam',\n",
    "              metrics=['accuracy'])\n",
    "model.fit(X, y, epochs=10,batch_size=1,validation_split=0.2,callbacks=[tensorboard])"
   ]
  },
  {
   "cell_type": "code",
   "execution_count": 9,
   "metadata": {},
   "outputs": [
    {
     "name": "stdout",
     "output_type": "stream",
     "text": [
      "Epoch 1/10\n",
      "900/900 [==============================] - 21s 23ms/step - loss: 1.7621 - accuracy: 0.3833 - val_loss: 18.3795 - val_accuracy: 0.0000e+00\n",
      "Epoch 2/10\n",
      "900/900 [==============================] - 21s 23ms/step - loss: 0.6599 - accuracy: 0.7589 - val_loss: 21.2789 - val_accuracy: 0.0000e+00\n",
      "Epoch 3/10\n",
      "900/900 [==============================] - 21s 23ms/step - loss: 0.4350 - accuracy: 0.8367 - val_loss: 19.3765 - val_accuracy: 0.0000e+00\n",
      "Epoch 4/10\n",
      "900/900 [==============================] - 21s 23ms/step - loss: 0.3005 - accuracy: 0.8922 - val_loss: 13.0914 - val_accuracy: 0.0000e+00\n",
      "Epoch 5/10\n",
      "900/900 [==============================] - 22s 25ms/step - loss: 0.2744 - accuracy: 0.8989 - val_loss: 20.4341 - val_accuracy: 0.0000e+00\n",
      "Epoch 6/10\n",
      "900/900 [==============================] - 22s 25ms/step - loss: 0.2239 - accuracy: 0.9189 - val_loss: 25.9778 - val_accuracy: 0.0000e+00\n",
      "Epoch 7/10\n",
      "900/900 [==============================] - 22s 24ms/step - loss: 0.2244 - accuracy: 0.9122 - val_loss: 21.3282 - val_accuracy: 0.0000e+00\n",
      "Epoch 8/10\n",
      "900/900 [==============================] - 22s 24ms/step - loss: 0.1286 - accuracy: 0.9633 - val_loss: 27.2622 - val_accuracy: 0.0000e+00\n",
      "Epoch 9/10\n",
      "900/900 [==============================] - 22s 24ms/step - loss: 0.1794 - accuracy: 0.9444 - val_loss: 29.8992 - val_accuracy: 0.0000e+00\n",
      "Epoch 10/10\n",
      "900/900 [==============================] - 21s 24ms/step - loss: 0.1571 - accuracy: 0.9478 - val_loss: 34.9407 - val_accuracy: 0.0000e+00\n"
     ]
    }
   ],
   "source": [
    "#Model 2\n",
    "pickle_in = open(r\"C:\\Users\\ASUS\\project\\Plant-Leaf-Recognition\\X_Augmented_Grayscale\",\"rb\")\n",
    "X = pickle.load(pickle_in)\n",
    "\n",
    "pickle_in = open(r\"C:\\Users\\ASUS\\project\\Plant-Leaf-Recognition\\y_Augmented_Grayscale\",\"rb\")\n",
    "y = pickle.load(pickle_in)\n",
    "\n",
    "X = X/255.0\n",
    "NAME=\"Model_2\"\n",
    "\n",
    "model=Sequential()\n",
    "\n",
    "model.add(Conv2D(100,(5,5),padding=\"same\",strides=(2,2),activation=\"relu\", input_shape=X.shape[1:]))\n",
    "model.add(MaxPooling2D(pool_size=(5,5),strides=(5,5)))\n",
    "model.add(Dropout(0.2))\n",
    "model.add(Conv2D(250,(5,5),padding=\"same\",strides=(2,2),activation=\"relu\"))\n",
    "model.add(MaxPooling2D(pool_size=(5,5),strides=(2,2)))\n",
    "model.add(Dropout(0.5))\n",
    "model.add(Flatten())\n",
    "model.add(Dense(15))\n",
    "model.add(Activation('softmax'))\n",
    "\n",
    "tensorboard= TensorBoard(log_dir=\"logs\\\\{}\".format(NAME))\n",
    "X=np.array(X)\n",
    "y=np.array(y)\n",
    "model.compile(loss='sparse_categorical_crossentropy',\n",
    "             optimizer='adam',\n",
    "             metrics=['accuracy'])\n",
    "\n",
    "history = model.fit(X,y,epochs=10,batch_size=1,validation_split=0.2,callbacks=[tensorboard])\n"
   ]
  },
  {
   "cell_type": "code",
   "execution_count": 10,
   "metadata": {},
   "outputs": [
    {
     "data": {
      "text/plain": [
       "<matplotlib.legend.Legend at 0x26d3a0fa290>"
      ]
     },
     "execution_count": 10,
     "metadata": {},
     "output_type": "execute_result"
    },
    {
     "data": {
      "image/png": "[encoded data removed]",
      "text/plain": [
       "<Figure size 640x480 with 1 Axes>"
      ]
     },
     "metadata": {},
     "output_type": "display_data"
    }
   ],
   "source": [
    "#Plot Model Loss\n",
    "plt.subplot(211)\n",
    "plt.title('Model Loss')\n",
    "plt.plot(history.history['loss'], color='blue', label='train')\n",
    "plt.plot(history.history['val_loss'], color='green', label='test')\n",
    "plt.ylabel('Loss')\n",
    "plt.xlabel('Epochs')\n",
    "plt.legend(['Training','Validation'],loc='upper right')\n"
   ]
  },
  {
   "cell_type": "code",
   "execution_count": 11,
   "metadata": {},
   "outputs": [
    {
     "data": {
      "text/plain": [
       "<matplotlib.legend.Legend at 0x26d44e65e10>"
      ]
     },
     "execution_count": 11,
     "metadata": {},
     "output_type": "execute_result"
    },
    {
     "data": {
      "image/png": "[encoded data removed]",
      "text/plain": [
       "<Figure size 640x480 with 1 Axes>"
      ]
     },
     "metadata": {},
     "output_type": "display_data"
    }
   ],
   "source": [
    "# Plot Accuracy\n",
    "plt.subplot(211)\n",
    "plt.title('Model Accuracy')\n",
    "plt.plot(history.history['accuracy'], color='blue', label='train')\n",
    "plt.plot(history.history['val_accuracy'], color='green', label='test')\n",
    "plt.ylabel('Accuracy')\n",
    "plt.xlabel('Epochs')\n",
    "plt.legend(['Training','Validation'],loc='lower right')"
   ]
  },
  {
   "cell_type": "code",
   "execution_count": 12,
   "metadata": {},
   "outputs": [
    {
     "name": "stderr",
     "output_type": "stream",
     "text": [
      "C:\\Users\\ASUS\\anaconda3\\Lib\\site-packages\\keras\\src\\engine\\training.py:3079: UserWarning: You are saving your model as an HDF5 file via `model.save()`. This file format is considered legacy. We recommend using instead the native Keras format, e.g. `model.save('my_model.keras')`.\n",
      "  saving_api.save_model(\n"
     ]
    }
   ],
   "source": [
    "model.save(\"CNN-model.h5\")"
   ]
  },
  {
   "cell_type": "code",
   "execution_count": 13,
   "metadata": {},
   "outputs": [
    {
     "name": "stdout",
     "output_type": "stream",
     "text": [
      "Model: \"sequential_1\"\n",
      "_________________________________________________________________\n",
      " Layer (type)                Output Shape              Param #   \n",
      "=================================================================\n",
      " conv2d_2 (Conv2D)           (None, 112, 112, 100)     2600      \n",
      "                                                                 \n",
      " max_pooling2d_2 (MaxPoolin  (None, 22, 22, 100)       0         \n",
      " g2D)                                                            \n",
      "                                                                 \n",
      " dropout (Dropout)           (None, 22, 22, 100)       0         \n",
      "                                                                 \n",
      " conv2d_3 (Conv2D)           (None, 11, 11, 250)       625250    \n",
      "                                                                 \n",
      " max_pooling2d_3 (MaxPoolin  (None, 4, 4, 250)         0         \n",
      " g2D)                                                            \n",
      "                                                                 \n",
      " dropout_1 (Dropout)         (None, 4, 4, 250)         0         \n",
      "                                                                 \n",
      " flatten_1 (Flatten)         (None, 4000)              0         \n",
      "                                                                 \n",
      " dense_1 (Dense)             (None, 15)                60015     \n",
      "                                                                 \n",
      " activation_3 (Activation)   (None, 15)                0         \n",
      "                                                                 \n",
      "=================================================================\n",
      "Total params: 687865 (2.62 MB)\n",
      "Trainable params: 687865 (2.62 MB)\n",
      "Non-trainable params: 0 (0.00 Byte)\n",
      "_________________________________________________________________\n"
     ]
    }
   ],
   "source": [
    "model.summary()"
   ]
  },
  {
   "cell_type": "code",
   "execution_count": 14,
   "metadata": {},
   "outputs": [
    {
     "name": "stdout",
     "output_type": "stream",
     "text": [
      "Epoch 1/10\n",
      "900/900 [==============================] - 23s 25ms/step - loss: 1.4808 - accuracy: 0.4933 - val_loss: 13.0754 - val_accuracy: 0.0000e+00\n",
      "Epoch 2/10\n",
      "900/900 [==============================] - 21s 24ms/step - loss: 0.4730 - accuracy: 0.8400 - val_loss: 15.8986 - val_accuracy: 0.0000e+00\n",
      "Epoch 3/10\n",
      "900/900 [==============================] - 22s 24ms/step - loss: 0.3441 - accuracy: 0.8844 - val_loss: 16.8281 - val_accuracy: 0.0000e+00\n",
      "Epoch 4/10\n",
      "900/900 [==============================] - 22s 24ms/step - loss: 0.2540 - accuracy: 0.9156 - val_loss: 15.5478 - val_accuracy: 0.0000e+00\n",
      "Epoch 5/10\n",
      "900/900 [==============================] - 22s 24ms/step - loss: 0.1967 - accuracy: 0.9333 - val_loss: 15.8403 - val_accuracy: 0.0000e+00\n",
      "Epoch 6/10\n",
      "900/900 [==============================] - 22s 24ms/step - loss: 0.2028 - accuracy: 0.9300 - val_loss: 17.7414 - val_accuracy: 0.0000e+00\n",
      "Epoch 7/10\n",
      "900/900 [==============================] - 21s 24ms/step - loss: 0.1340 - accuracy: 0.9556 - val_loss: 24.9215 - val_accuracy: 0.0000e+00\n",
      "Epoch 8/10\n",
      "900/900 [==============================] - 22s 24ms/step - loss: 0.1300 - accuracy: 0.9578 - val_loss: 23.1722 - val_accuracy: 0.0000e+00\n",
      "Epoch 9/10\n",
      "900/900 [==============================] - 22s 24ms/step - loss: 0.1381 - accuracy: 0.9544 - val_loss: 17.9116 - val_accuracy: 0.0000e+00\n",
      "Epoch 10/10\n",
      "900/900 [==============================] - 22s 24ms/step - loss: 0.1246 - accuracy: 0.9511 - val_loss: 25.1486 - val_accuracy: 0.0000e+00\n",
      "Model: \"sequential_2\"\n",
      "_________________________________________________________________\n",
      " Layer (type)                Output Shape              Param #   \n",
      "=================================================================\n",
      " conv2d_4 (Conv2D)           (None, 112, 112, 32)      320       \n",
      "                                                                 \n",
      " max_pooling2d_4 (MaxPoolin  (None, 55, 55, 32)        0         \n",
      " g2D)                                                            \n",
      "                                                                 \n",
      " dropout_2 (Dropout)         (None, 55, 55, 32)        0         \n",
      "                                                                 \n",
      " conv2d_5 (Conv2D)           (None, 55, 55, 64)        18496     \n",
      "                                                                 \n",
      " max_pooling2d_5 (MaxPoolin  (None, 27, 27, 64)        0         \n",
      " g2D)                                                            \n",
      "                                                                 \n",
      " dropout_3 (Dropout)         (None, 27, 27, 64)        0         \n",
      "                                                                 \n",
      " conv2d_6 (Conv2D)           (None, 27, 27, 128)       73856     \n",
      "                                                                 \n",
      " max_pooling2d_6 (MaxPoolin  (None, 13, 13, 128)       0         \n",
      " g2D)                                                            \n",
      "                                                                 \n",
      " dropout_4 (Dropout)         (None, 13, 13, 128)       0         \n",
      "                                                                 \n",
      " flatten_2 (Flatten)         (None, 21632)             0         \n",
      "                                                                 \n",
      " dense_2 (Dense)             (None, 15)                324495    \n",
      "                                                                 \n",
      "=================================================================\n",
      "Total params: 417167 (1.59 MB)\n",
      "Trainable params: 417167 (1.59 MB)\n",
      "Non-trainable params: 0 (0.00 Byte)\n",
      "_________________________________________________________________\n"
     ]
    }
   ],
   "source": [
    "#Model 3\n",
    "pickle_in = open(r\"C:\\Users\\ASUS\\project\\Plant-Leaf-Recognition\\X_Augmented_Grayscale\",\"rb\")\n",
    "X = pickle.load(pickle_in)\n",
    "\n",
    "pickle_in = open(r\"C:\\Users\\ASUS\\project\\Plant-Leaf-Recognition\\y_Augmented_Grayscale\",\"rb\")\n",
    "y = pickle.load(pickle_in)\n",
    "\n",
    "X = X/255.0\n",
    "NAME=\"Model_3\"\n",
    "\n",
    "model=Sequential()\n",
    "\n",
    "model.add(Conv2D(32,(3,3),padding=\"same\",strides=(2,2),activation=\"relu\", input_shape=X.shape[1:]))\n",
    "model.add(MaxPooling2D(pool_size=(3,3),strides=(2,2)))\n",
    "model.add(Dropout(0.2))\n",
    "model.add(Conv2D(64,(3,3),padding=\"same\",strides=(1,1),activation=\"relu\"))\n",
    "model.add(MaxPooling2D(pool_size=(3,3),strides=(2,2)))\n",
    "model.add(Dropout(0.3))\n",
    "model.add(Conv2D(128,(3,3),padding=\"same\",strides=(1,1),activation=\"relu\"))\n",
    "model.add(MaxPooling2D(pool_size=(3,3),strides=(2,2)))\n",
    "model.add(Dropout(0.5))\n",
    "model.add(Flatten())\n",
    "model.add(Dense(15,activation='softmax'))\n",
    "\n",
    "tensorboard= TensorBoard(log_dir=\"logs\\\\{}\".format(NAME))\n",
    "X=np.array(X)\n",
    "y=np.array(y)\n",
    "model.compile(loss='sparse_categorical_crossentropy',\n",
    "             optimizer='adam',\n",
    "             metrics=['accuracy'])\n",
    "\n",
    "history = model.fit(X,y,epochs=10,batch_size=1,validation_split=0.2,callbacks=[tensorboard])\n",
    "model.summary()"
   ]
  },
  {
   "cell_type": "code",
   "execution_count": 15,
   "metadata": {},
   "outputs": [
    {
     "name": "stderr",
     "output_type": "stream",
     "text": [
      "C:\\Users\\ASUS\\anaconda3\\Lib\\site-packages\\keras\\src\\utils\\image_utils.py:409: UserWarning: grayscale is deprecated. Please use color_mode = \"grayscale\"\n",
      "  warnings.warn(\n"
     ]
    },
    {
     "name": "stdout",
     "output_type": "stream",
     "text": [
      "1/1 [==============================] - 0s 148ms/step\n",
      "Alnus incana\n"
     ]
    }
   ],
   "source": [
    "#Testing predictions on model\n",
    "from tensorflow.keras.preprocessing import image\n",
    "\n",
    "def prediction(img):\n",
    "    img = image.img_to_array(img)\n",
    "    img = img.reshape(-1, 224, 224, 1)\n",
    "    img = img.astype('float32')\n",
    "    img = img/255.0\n",
    "    \n",
    "    return np.argmax(model.predict(img),axis=-1)[0]\n",
    "    \n",
    "labels=[\"Ulmus carpinifolia\",\"Acer\",\"Salix aurita\",\"Quercus\",\"Alnus incana\",\"Betula pubescens\",\"Salix alba 'Sericea\", \"Populus tremula\",\"Ulmus glabra\",\"Sorbus aucuparia\",\"Salix sinerea\",\"Populus\",\"Tilia\",\"Sorbus intermedia\",\"Fagus silvatica\"]\n",
    "path = \"C:\\\\Users\\\\ASUS\\\\project\\\\Plant-Leaf-Recognition\\\\sample\\\\populs.tif\"\n",
    "\n",
    "img = image.load_img(path,target_size=(224,224),grayscale=True)\n",
    "print(labels[prediction(img)])"
   ]
  },
  {
   "cell_type": "code",
   "execution_count": 16,
   "metadata": {
    "scrolled": false
   },
   "outputs": [
    {
     "name": "stdout",
     "output_type": "stream",
     "text": [
      "Epoch 1/5\n",
      "180/180 [==============================] - 135s 741ms/step - loss: 2.5679 - accuracy: 0.0622 - val_loss: 5.3994 - val_accuracy: 0.0000e+00\n",
      "Epoch 2/5\n",
      "180/180 [==============================] - 134s 747ms/step - loss: 2.5051 - accuracy: 0.0844 - val_loss: 6.5964 - val_accuracy: 0.0000e+00\n",
      "Epoch 3/5\n",
      "180/180 [==============================] - 5732s 32s/step - loss: 2.5083 - accuracy: 0.0767 - val_loss: 6.9792 - val_accuracy: 0.0000e+00\n",
      "Epoch 4/5\n",
      "180/180 [==============================] - 152s 847ms/step - loss: 2.5061 - accuracy: 0.0822 - val_loss: 6.8277 - val_accuracy: 0.0000e+00\n",
      "Epoch 5/5\n",
      "180/180 [==============================] - 139s 769ms/step - loss: 2.4998 - accuracy: 0.0589 - val_loss: 7.2639 - val_accuracy: 0.0000e+00\n",
      "Model: \"sequential_3\"\n",
      "_________________________________________________________________\n",
      " Layer (type)                Output Shape              Param #   \n",
      "=================================================================\n",
      " conv2d_7 (Conv2D)           (5, 214, 214, 96)         11712     \n",
      "                                                                 \n",
      " activation_4 (Activation)   (5, 214, 214, 96)         0         \n",
      "                                                                 \n",
      " max_pooling2d_7 (MaxPoolin  (5, 107, 107, 96)         0         \n",
      " g2D)                                                            \n",
      "                                                                 \n",
      " conv2d_8 (Conv2D)           (5, 25, 25, 256)          2973952   \n",
      "                                                                 \n",
      " activation_5 (Activation)   (5, 25, 25, 256)          0         \n",
      "                                                                 \n",
      " max_pooling2d_8 (MaxPoolin  (5, 12, 12, 256)          0         \n",
      " g2D)                                                            \n",
      "                                                                 \n",
      " conv2d_9 (Conv2D)           (5, 10, 10, 384)          885120    \n",
      "                                                                 \n",
      " activation_6 (Activation)   (5, 10, 10, 384)          0         \n",
      "                                                                 \n",
      " conv2d_10 (Conv2D)          (5, 8, 8, 384)            1327488   \n",
      "                                                                 \n",
      " activation_7 (Activation)   (5, 8, 8, 384)            0         \n",
      "                                                                 \n",
      " conv2d_11 (Conv2D)          (5, 6, 6, 256)            884992    \n",
      "                                                                 \n",
      " activation_8 (Activation)   (5, 6, 6, 256)            0         \n",
      "                                                                 \n",
      " max_pooling2d_9 (MaxPoolin  (5, 3, 3, 256)            0         \n",
      " g2D)                                                            \n",
      "                                                                 \n",
      " flatten_3 (Flatten)         (5, 2304)                 0         \n",
      "                                                                 \n",
      " dense_3 (Dense)             (5, 15)                   34575     \n",
      "                                                                 \n",
      " activation_9 (Activation)   (5, 15)                   0         \n",
      "                                                                 \n",
      " dropout_5 (Dropout)         (5, 15)                   0         \n",
      "                                                                 \n",
      " dense_4 (Dense)             (5, 4096)                 65536     \n",
      "                                                                 \n",
      " dropout_6 (Dropout)         (5, 4096)                 0         \n",
      "                                                                 \n",
      " dense_5 (Dense)             (5, 1000)                 4097000   \n",
      "                                                                 \n",
      " dropout_7 (Dropout)         (5, 1000)                 0         \n",
      "                                                                 \n",
      " dense_6 (Dense)             (5, 15)                   15015     \n",
      "                                                                 \n",
      " activation_10 (Activation)  (5, 15)                   0         \n",
      "                                                                 \n",
      "=================================================================\n",
      "Total params: 10295390 (39.27 MB)\n",
      "Trainable params: 10295390 (39.27 MB)\n",
      "Non-trainable params: 0 (0.00 Byte)\n",
      "_________________________________________________________________\n"
     ]
    }
   ],
   "source": [
    "#Model 4- ALEXNET \n",
    "pickle_in = open(r\"C:\\Users\\ASUS\\project\\Plant-Leaf-Recognition\\X_Augmented_Grayscale\",\"rb\")\n",
    "X = pickle.load(pickle_in)\n",
    "\n",
    "pickle_in = open(r\"C:\\Users\\ASUS\\project\\Plant-Leaf-Recognition\\y_Augmented_Grayscale\",\"rb\")\n",
    "y = pickle.load(pickle_in)\n",
    "\n",
    "X = X/255.0\n",
    "NAME = \"AlexNet_Model\"\n",
    "\n",
    "model = Sequential()\n",
    "model.add(Conv2D(filters=96, kernel_size=(11,11), strides=(1,1), padding='valid'))\n",
    "model.add(Activation('relu'))\n",
    "model.add(MaxPooling2D(pool_size=(2,2),strides=(2,2),padding='valid'))\n",
    "\n",
    "model.add(Conv2D(filters=256, input_shape=X.shape[1:], kernel_size=(11,11), strides=(4,4), padding='valid'))\n",
    "model.add(Activation('relu'))\n",
    "model.add(MaxPooling2D(pool_size=(2,2),strides=(2,2),padding='valid'))\n",
    "\n",
    "model.add(Conv2D(filters=384, kernel_size=(3,3), strides=(1,1), padding='valid'))\n",
    "model.add(Activation('relu'))\n",
    "\n",
    "model.add(Conv2D(filters=384,kernel_size=(3,3), strides=(1,1), padding='valid'))\n",
    "model.add(Activation('relu'))\n",
    "\n",
    "model.add(Conv2D(filters=256, kernel_size=(3,3), strides=(1,1), padding='valid'))\n",
    "model.add(Activation('relu'))\n",
    "model.add(MaxPooling2D(pool_size=(2,2),strides=(2,2),padding='valid'))\n",
    "          \n",
    "\n",
    "model.add(Flatten())\n",
    "model.add(Dense(15))\n",
    "model.add(Activation('relu'))\n",
    "model.add(Dropout(0.4))\n",
    "model.add(Dense(4096,activation='relu'))\n",
    "model.add(Dropout(0.4))\n",
    "model.add(Dense(1000,activation='relu'))\n",
    "model.add(Dropout(0.4))\n",
    "\n",
    "model.add(Dense(15))\n",
    "model.add(Activation('softmax'))\n",
    "\n",
    "tensorboard= TensorBoard(log_dir=\"logs\\\\{}\".format(NAME))\n",
    "X=np.array(X)\n",
    "y=np.array(y)\n",
    "model.compile(loss='sparse_categorical_crossentropy',\n",
    "             optimizer='adam',\n",
    "             metrics=['accuracy'])\n",
    "\n",
    "model.fit(X,y, epochs=5, batch_size=5, validation_split=0.2, callbacks=[tensorboard])\n",
    "model.summary()"
   ]
  }
 ],
 "metadata": {
  "kernelspec": {
   "display_name": "Python 3 (ipykernel)",
   "language": "python",
   "name": "python3"
  },
  "language_info": {
   "codemirror_mode": {
    "name": "ipython",
    "version": 3
   },
   "file_extension": ".py",
   "mimetype": "text/x-python",
   "name": "python",
   "nbconvert_exporter": "python",
   "pygments_lexer": "ipython3",
   "version": "3.11.4"
  }
 },
 "nbformat": 4,
 "nbformat_minor": 4
}
